{
  "nbformat": 4,
  "nbformat_minor": 0,
  "metadata": {
    "colab": {
      "provenance": [],
      "authorship_tag": "ABX9TyPC6q2Q8nHgfdfzWdwIUS1Z",
      "include_colab_link": true
    },
    "kernelspec": {
      "name": "python3",
      "display_name": "Python 3"
    },
    "language_info": {
      "name": "python"
    }
  },
  "cells": [
    {
      "cell_type": "markdown",
      "metadata": {
        "id": "view-in-github",
        "colab_type": "text"
      },
      "source": [
        "<a href=\"https://colab.research.google.com/github/mdesouzasilva571-pixel/Strings-L-gica-e-La-os/blob/main/Quest%C3%A3o4_py.ipynb\" target=\"_parent\"><img src=\"https://colab.research.google.com/assets/colab-badge.svg\" alt=\"Open In Colab\"/></a>"
      ]
    },
    {
      "cell_type": "code",
      "execution_count": null,
      "metadata": {
        "id": "JbA3-YUhMG6L"
      },
      "outputs": [],
      "source": [
        "def verificar_senha(s):\n",
        "    if len(s) >= 8 and any(c.islower() for c in s) and any(c.isupper() for c in s) and any(c.isdigit() for c in s):\n",
        "        return \"Senha forte\"\n",
        "    else:\n",
        "        return \"Senha fraca\"\n",
        "\n",
        "# Exemplo de uso\n",
        "senha1 = \"Aa123@kk\"\n",
        "senha2 = \"ana12345\"\n",
        "\n",
        "print(f\"Entrada: {senha1} → Saída: {verificar_senha(senha1)}\")\n",
        "print(f\"Entrada: {senha2} → Saída: {verificar_senha(senha2)}\")"
      ]
    }
  ]
}