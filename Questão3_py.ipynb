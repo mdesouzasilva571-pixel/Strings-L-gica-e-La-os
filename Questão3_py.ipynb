{
  "nbformat": 4,
  "nbformat_minor": 0,
  "metadata": {
    "colab": {
      "provenance": [],
      "authorship_tag": "ABX9TyNTjxCNOpYtCb4gPtv6KXzA",
      "include_colab_link": true
    },
    "kernelspec": {
      "name": "python3",
      "display_name": "Python 3"
    },
    "language_info": {
      "name": "python"
    }
  },
  "cells": [
    {
      "cell_type": "markdown",
      "metadata": {
        "id": "view-in-github",
        "colab_type": "text"
      },
      "source": [
        "<a href=\"https://colab.research.google.com/github/mdesouzasilva571-pixel/Strings-L-gica-e-La-os/blob/main/Quest%C3%A3o3_py.ipynb\" target=\"_parent\"><img src=\"https://colab.research.google.com/assets/colab-badge.svg\" alt=\"Open In Colab\"/></a>"
      ]
    },
    {
      "cell_type": "code",
      "execution_count": null,
      "metadata": {
        "id": "kd_4PUMOLUPq"
      },
      "outputs": [],
      "source": [
        "def contar_palavras(frase):\n",
        "    palavras = frase.split()  # Divide a frase em palavras\n",
        "    contador = {}  # Dicionário para contar as ocorrências\n",
        "\n",
        "    for palavra in palavras:\n",
        "        # Remove pontuação e converte para minúsculas para uma contagem mais precisa\n",
        "        palavra = palavra.strip('.,!?;:\"\\'()[]{}').lower()\n",
        "        if palavra: # Verifica se a palavra não está vazia após a limpeza\n",
        "            if palavra in contador:\n",
        "                contador[palavra] += 1  # Incrementa o contador se a palavra já existir\n",
        "            else:\n",
        "                contador[palavra] = 1  # Adiciona a palavra ao dicionário\n",
        "\n",
        "    return contador\n",
        "\n",
        "# Exemplo de uso\n",
        "entrada = input(\"Digite uma frase: \") # Corrected line\n",
        "resultado = contar_palavras(entrada)\n",
        "\n",
        "# Exibindo o resultado\n",
        "for palavra, contagem in resultado.items():\n",
        "    print(f\"{palavra}: {contagem}\")"
      ]
    }
  ]
}