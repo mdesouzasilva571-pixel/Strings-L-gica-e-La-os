{
  "nbformat": 4,
  "nbformat_minor": 0,
  "metadata": {
    "colab": {
      "provenance": [],
      "authorship_tag": "ABX9TyPvvS06V1Qf1hiOm1X2AN/c",
      "include_colab_link": true
    },
    "kernelspec": {
      "name": "python3",
      "display_name": "Python 3"
    },
    "language_info": {
      "name": "python"
    }
  },
  "cells": [
    {
      "cell_type": "markdown",
      "metadata": {
        "id": "view-in-github",
        "colab_type": "text"
      },
      "source": [
        "<a href=\"https://colab.research.google.com/github/mdesouzasilva571-pixel/Strings-L-gica-e-La-os/blob/main/Quest%C3%A3o5_py.ipynb\" target=\"_parent\"><img src=\"https://colab.research.google.com/assets/colab-badge.svg\" alt=\"Open In Colab\"/></a>"
      ]
    },
    {
      "cell_type": "code",
      "execution_count": 1,
      "metadata": {
        "colab": {
          "base_uri": "https://localhost:8080/"
        },
        "id": "K_-1PmtqTtFj",
        "outputId": "c67f7049-b3aa-4f2e-fb13-1e92711d0fa9"
      },
      "outputs": [
        {
          "output_type": "stream",
          "name": "stdout",
          "text": [
            "PÉULPAN\n"
          ]
        }
      ],
      "source": [
        "def gerar_acronimo(frase):\n",
        "    # Definir palavras comuns a serem ignoradas\n",
        "    stopwords = [\"de\", \"da\", \"do\", \"das\", \"dos\", \"e\"]\n",
        "\n",
        "    # Separar a frase em palavras\n",
        "    palavras = frase.split()\n",
        "\n",
        "    # Gerar o acrônimo\n",
        "    acronimo = \"\".join([palavra[0].upper() for palavra in palavras if palavra.lower() not in stopwords])\n",
        "\n",
        "    return acronimo\n",
        "\n",
        "# Exemplo de uso\n",
        "entrada = \"Python é uma linguagem de programação de alto nível\"\n",
        "saida = gerar_acronimo(entrada)\n",
        "print(saida)  # Saída: PLPN"
      ]
    }
  ]
}