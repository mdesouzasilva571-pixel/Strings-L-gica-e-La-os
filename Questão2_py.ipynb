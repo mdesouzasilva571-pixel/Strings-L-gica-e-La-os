{
  "nbformat": 4,
  "nbformat_minor": 0,
  "metadata": {
    "colab": {
      "provenance": [],
      "authorship_tag": "ABX9TyP5S85tfbAdwENv/0OPEXq/",
      "include_colab_link": true
    },
    "kernelspec": {
      "name": "python3",
      "display_name": "Python 3"
    },
    "language_info": {
      "name": "python"
    }
  },
  "cells": [
    {
      "cell_type": "markdown",
      "metadata": {
        "id": "view-in-github",
        "colab_type": "text"
      },
      "source": [
        "<a href=\"https://colab.research.google.com/github/mdesouzasilva571-pixel/Strings-L-gica-e-La-os/blob/main/Quest%C3%A3o2_py.ipynb\" target=\"_parent\"><img src=\"https://colab.research.google.com/assets/colab-badge.svg\" alt=\"Open In Colab\"/></a>"
      ]
    },
    {
      "cell_type": "code",
      "execution_count": null,
      "metadata": {
        "id": "97TxaFLC_qog"
      },
      "outputs": [],
      "source": [
        "def verificar_palidromo(texto):\n",
        "  #1.Remover espaços e converter para minusculas\n",
        "  # Usa join para juntar os caracteres e remove tudo que não for alfanumérico,\n",
        "    # e então converte para minúsculas\n",
        "    texto = ''.join(filter(str.isalnum, texto)).lower()\n",
        "  # Verificar se o texto é um palíndromo\n",
        "\n",
        "  # 2. Comparar a string processada com a sua versão invertida\n",
        "    # O fatiamento [::-1] inverte a string\n",
        "    if texto == texto[::-1]:\n",
        "        return \"É um palíndromo!\"\n",
        "    else:\n",
        "        return \"Não é um palíndromo.\"\n",
        "# Teste com diferentes entradas\n",
        "print(verificar_palidromo(\"arara\"))\n",
        "print(verificar_palidromo(\"texto\"))"
      ]
    }
  ]
}